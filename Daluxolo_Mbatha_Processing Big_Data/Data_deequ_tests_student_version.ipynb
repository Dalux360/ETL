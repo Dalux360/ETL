{
 "cells": [
  {
   "cell_type": "markdown",
   "metadata": {},
   "source": [
    "# Processing Big Data - Deequ Analysis\n",
    "\n",
    "© Explore Data Science Academy\n",
    "\n",
    "## Honour Code\n",
    "I **Daluxolo**, **Mbatha**, confirm - by submitting this document - that the solutions in this notebook are a result of my own work and that I abide by the [EDSA honour code](https://drive.google.com/file/d/1QDCjGZJ8-FmJE3bZdIQNwnJyQKPhHZBn/view?usp=sharing).\n",
    "    Non-compliance with the honour code constitutes a material breach of contract.\n",
    "\n",
    "\n",
    "## Context\n",
    "\n",
    "Having completed manual data quality checks, it should be obvious that the process can become quite cumbersome. As the Data Engineer in the team, you have researched some tools that could potentially save the team from having to do this cumbersome work. In your research, you have come a across a tool called [Deequ](https://github.com/awslabs/deequ), which is a library for measuring the data quality of large datasets.\n",
    "\n",
    "<div align=\"center\" style=\"width: 600px; font-size: 80%; text-align: center; margin: 0 auto\">\n",
    "<img src=\"https://github.com/Explore-AI/Pictures/raw/master/data_engineering/transform/predict/DataQuality.jpg\"\n",
    "     alt=\"Data Quality\"\n",
    "     style=\"float: center; padding-bottom=0.5em\"\n",
    "     width=100%/>\n",
    "     <p><em>Figure 1. Six dimensions of data quality</em></p>\n",
    "</div>\n",
    "\n",
    "You present this tool to your manager; he is quite impressed and gives you the go-ahead to use this in your implementation. You are now required to perform some data quality tests using this automated data testing tool.\n",
    " "
   ]
  },
  {
   "cell_type": "markdown",
   "metadata": {},
   "source": [
    "> ## 🚩️ Important Notice 🚩️\n",
    ">\n",
    ">To successfully run `pydeequ` without any errors, please make sure that you have an environment that is running pyspark version 3.0.\n",
    "> You are advised to **create a new conda environment** and install this specific version of pyspark to avoid any technical issues:\n",
    ">\n",
    "> `pip install pyspark==3.0`\n",
    "\n",
    "<br>\n",
    "\n",
    "## Import dependencies\n",
    "\n",
    "If you do not have `pydeequ` already installed, install it using the following command:\n",
    "- `pip install pydeequ`"
   ]
  },
  {
   "cell_type": "code",
   "execution_count": 2,
   "metadata": {},
   "outputs": [],
   "source": [
    "import pandas as pd\n",
    "import numpy as np\n",
    "import matplotlib.pyplot as plt\n",
    "import pydeequ\n",
    "from pydeequ.analyzers import *\n",
    "from pydeequ.profiles import *\n",
    "from pydeequ.suggestions import *\n",
    "from pydeequ.checks import *\n",
    "from pydeequ.verification import *\n",
    "\n",
    "from pyspark.sql import SparkSession\n",
    "from pyspark.sql import functions as F\n",
    "from pyspark.sql.types import DecimalType, DoubleType, IntegerType, DateType, NumericType, StructType, StringType, StructField"
   ]
  },
  {
   "cell_type": "code",
   "execution_count": 3,
   "metadata": {},
   "outputs": [],
   "source": [
    "spark = (SparkSession\n",
    "    .builder\n",
    "    .config(\"spark.jars.packages\", pydeequ.deequ_maven_coord)\n",
    "    .config(\"spark.jars.excludes\", pydeequ.f2j_maven_coord)\n",
    "    .getOrCreate())"
   ]
  },
  {
   "cell_type": "markdown",
   "metadata": {},
   "source": [
    "## Read data into spark dataframe\n",
    "\n",
    "In this notebook, we set out to run some data quality tests, with the possiblity of running end to end on the years 1963, 1974, 1985, 1996, 2007, and 2018. \n",
    "\n",
    "> ℹ️ **Instructions** ℹ️\n",
    ">\n",
    ">1. Make use of the `Data_ingestion_student_version.ipynb` notebook to create the parquet files for the following years:\n",
    ">       - 1963\n",
    ">       - 1974\n",
    ">       - 1985\n",
    ">       - 1996\n",
    ">       - 2007\n",
    ">       - 2018\n",
    ">\n",
    ">2. Ingest the data for the for the years given above. You should only do it one year at a time.\n",
    ">3. Ingest the metadata file.\n",
    "\n",
    "\n",
    "When developing your code, it will be sufficient to focus on a single year. However, after your development is done, you will need to run this notebook for all of the given years above so that you can answer all the questions given in the Data Testing MCQ."
   ]
  },
  {
   "cell_type": "code",
   "execution_count": 39,
   "metadata": {},
   "outputs": [
    {
     "name": "stdout",
     "output_type": "stream",
     "text": [
      "+----------+---------+---------+---------+---------+-------------+--------+-----+\n",
      "|      date|     open|     high|      low|    close|    adj_close|  volume|stock|\n",
      "+----------+---------+---------+---------+---------+-------------+--------+-----+\n",
      "|1985-12-19|11.858805|   12.015|11.834775|11.834775|     6.174869|856500.0|   AA|\n",
      "|1985-12-19|      0.0|     12.4|     12.2|     12.4|   10.7758875|  4000.0| AAME|\n",
      "|1985-12-19|1.2037038|1.2037038|1.1666666|1.2037038|-1.5022586E21|665500.0|  AAN|\n",
      "+----------+---------+---------+---------+---------+-------------+--------+-----+\n",
      "only showing top 3 rows\n",
      "\n"
     ]
    }
   ],
   "source": [
    "#TODO: Write your code here\n",
    "# Use this variable (year) to determine which year your are focusing on\n",
    "year = 1985\n",
    "df = spark.read.parquet('/Users/daluxolombatha/Desktop/three/1985/*')\n",
    "df.show(3)"
   ]
  },
  {
   "cell_type": "code",
   "execution_count": 40,
   "metadata": {},
   "outputs": [
    {
     "data": {
      "text/plain": [
       "221250.0"
      ]
     },
     "execution_count": 40,
     "metadata": {},
     "output_type": "execute_result"
    }
   ],
   "source": [
    "float(df.describe(\"close\").filter(\"summary = 'max'\").select(\"close\").first().asDict()['close'])"
   ]
  },
  {
   "cell_type": "code",
   "execution_count": 41,
   "metadata": {},
   "outputs": [
    {
     "name": "stdout",
     "output_type": "stream",
     "text": [
      "+----------+---------+---------+---------+---------+-------------+--------+-----+\n",
      "|      date|     open|     high|      low|    close|    adj_close|  volume|stock|\n",
      "+----------+---------+---------+---------+---------+-------------+--------+-----+\n",
      "|1985-12-19|1.2037038|1.2037038|1.1666666|1.2037038|-1.5022586E21|665500.0|  AAN|\n",
      "|1985-12-19|      0.0| 2.234375|   2.1875| 2.203125|-0.0034884836|243200.0|  CLF|\n",
      "+----------+---------+---------+---------+---------+-------------+--------+-----+\n",
      "only showing top 2 rows\n",
      "\n"
     ]
    }
   ],
   "source": [
    "df.createOrReplaceTempView('st')\n",
    "spark.sql(\"\"\"SELECT * \n",
    "        FROM st\n",
    "        WHERE adj_close < 0\n",
    "        \"\"\").show(2)"
   ]
  },
  {
   "cell_type": "markdown",
   "metadata": {},
   "source": [
    "## **Run tests on the dataset**\n",
    "\n",
    "## Test 1 - Null values ⛔️\n",
    "For the first test, you are required to check the data for completeness.\n",
    "\n",
    "> ℹ️ **Instructions** ℹ️\n",
    ">\n",
    ">1. Make use of the `Verification Suite` and write code to check for missing values in the data. \n",
    ">2. Display the results of your test.\n",
    ">\n",
    "> *You may use as many cells as necessary*\n"
   ]
  },
  {
   "cell_type": "code",
   "execution_count": 42,
   "metadata": {},
   "outputs": [
    {
     "name": "stdout",
     "output_type": "stream",
     "text": [
      "+-------+--------+------------+------------------+\n",
      "| entity|instance|        name|             value|\n",
      "+-------+--------+------------+------------------+\n",
      "| Column|    date|Completeness|               1.0|\n",
      "| Column|   close|Completeness|0.9999595333618527|\n",
      "| Column|     low|Completeness|0.9999595333618527|\n",
      "| Column|    high|Completeness|0.9999595333618527|\n",
      "|Dataset|       *|        Size|          172982.0|\n",
      "| Column|   stock|Completeness|               1.0|\n",
      "| Column|  volume|Completeness|0.9999595333618527|\n",
      "| Column|    open|Completeness|0.9999595333618527|\n",
      "+-------+--------+------------+------------------+\n",
      "\n"
     ]
    }
   ],
   "source": [
    "#TODO: Write your code here\n",
    "from pydeequ.analyzers import *\n",
    "\n",
    "analysisResult = AnalysisRunner(spark) \\\n",
    "                    .onData(df) \\\n",
    "                    .addAnalyzer(Size()) \\\n",
    "                    .addAnalyzer(Completeness(\"date\")) \\\n",
    "                    .addAnalyzer(Completeness(\"open\")) \\\n",
    "                    .addAnalyzer(Completeness(\"low\")) \\\n",
    "                    .addAnalyzer(Completeness(\"high\")) \\\n",
    "                    .addAnalyzer(Completeness(\"close\")) \\\n",
    "                    .addAnalyzer(Completeness(\"adj close\")) \\\n",
    "                    .addAnalyzer(Completeness(\"volume\")) \\\n",
    "                    .addAnalyzer(Completeness(\"stock\")) \\\n",
    "                .run()\n",
    "\n",
    "analysisResult_df = AnalyzerContext.successMetricsAsDataFrame(spark, analysisResult)\n",
    "analysisResult_df.show()"
   ]
  },
  {
   "cell_type": "markdown",
   "metadata": {},
   "source": [
    "## Test 2 - Zero Values 🅾️\n",
    "\n",
    "For the second test, you are required to check for zero values within the dataset.\n",
    "\n",
    "> ℹ️ **Instructions** ℹ️\n",
    ">\n",
    ">1. Make use of the `Verification Suite` and write code to check for zero values within the data. \n",
    ">2. Display the results of your test.\n",
    ">\n",
    "> *You may use as many cells as necessary*"
   ]
  },
  {
   "cell_type": "code",
   "execution_count": 43,
   "metadata": {},
   "outputs": [
    {
     "name": "stdout",
     "output_type": "stream",
     "text": [
      "+------------+-----------+------------+--------------------+-----------------+--------------------+\n",
      "|       check|check_level|check_status|          constraint|constraint_status|  constraint_message|\n",
      "+------------+-----------+------------+--------------------+-----------------+--------------------+\n",
      "|Review Check|    Warning|     Warning|SizeConstraint(Si...|          Success|                    |\n",
      "|Review Check|    Warning|     Warning|MinimumConstraint...|          Success|                    |\n",
      "|Review Check|    Warning|     Warning|MinimumConstraint...|          Failure|Value: 0.00455729...|\n",
      "|Review Check|    Warning|     Warning|MinimumConstraint...|          Failure|Value: 0.00325520...|\n",
      "|Review Check|    Warning|     Warning|MinimumConstraint...|          Failure|Value: 0.00325520...|\n",
      "|Review Check|    Warning|     Warning|MinimumConstraint...|          Failure|Input data does n...|\n",
      "|Review Check|    Warning|     Warning|MinimumConstraint...|          Success|                    |\n",
      "+------------+-----------+------------+--------------------+-----------------+--------------------+\n",
      "\n"
     ]
    }
   ],
   "source": [
    "#TODO: Write your code here\n",
    "check = Check(spark, CheckLevel.Warning, \"Review Check\")\n",
    "\n",
    "checkResult = VerificationSuite(spark) \\\n",
    "    .onData(df) \\\n",
    "    .addCheck(\n",
    "        check.hasSize(lambda x: x >= 100000) \\\n",
    "        .hasMin(\"open\", lambda x: x == 0) \\\n",
    "        .hasMin(\"high\", lambda x: x == 0) \\\n",
    "        .hasMin(\"low\", lambda x: x == 0) \\\n",
    "        .hasMin(\"close\", lambda x: x == 0) \\\n",
    "        .hasMin(\"adj close\", lambda x: x == 0) \\\n",
    "        .hasMin(\"volume\", lambda x: x == 0)) \\\n",
    "    .run()\n",
    "    \n",
    "checkResult_df1 = VerificationResult.checkResultsAsDataFrame(spark, checkResult)\n",
    "checkResult_df1.show()"
   ]
  },
  {
   "cell_type": "markdown",
   "metadata": {},
   "source": [
    "## Test 3 - Negative values ➖️\n",
    "The third test requires you to check that all values in the data are positive.\n",
    "\n",
    "> ℹ️ **Instructions** ℹ️\n",
    ">\n",
    ">1. Make use of the `Verification Suite` and write code to check negative values within the dataset. \n",
    ">2. Display the results of your test.\n",
    ">\n",
    "> *You may use as many cells as necessary*"
   ]
  },
  {
   "cell_type": "code",
   "execution_count": 17,
   "metadata": {},
   "outputs": [
    {
     "name": "stdout",
     "output_type": "stream",
     "text": [
      "+------------+-----------+------------+--------------------+-----------------+--------------------+\n",
      "|       check|check_level|check_status|          constraint|constraint_status|  constraint_message|\n",
      "+------------+-----------+------------+--------------------+-----------------+--------------------+\n",
      "|Review Check|    Warning|     Warning|SizeConstraint(Si...|          Success|                    |\n",
      "|Review Check|    Warning|     Warning|MinimumConstraint...|          Failure|Value: 0.0 does n...|\n",
      "|Review Check|    Warning|     Warning|MinimumConstraint...|          Failure|Value: 0.00455729...|\n",
      "|Review Check|    Warning|     Warning|MinimumConstraint...|          Failure|Value: 0.00325520...|\n",
      "|Review Check|    Warning|     Warning|MinimumConstraint...|          Failure|Value: 0.00325520...|\n",
      "|Review Check|    Warning|     Warning|MinimumConstraint...|          Failure|Input data does n...|\n",
      "|Review Check|    Warning|     Warning|MinimumConstraint...|          Failure|Value: 0.0 does n...|\n",
      "+------------+-----------+------------+--------------------+-----------------+--------------------+\n",
      "\n"
     ]
    }
   ],
   "source": [
    "#TODO: Write your code here\n",
    "\n",
    "check = Check(spark, CheckLevel.Warning, \"Review Check\")\n",
    "\n",
    "checkResult = VerificationSuite(spark) \\\n",
    "    .onData(df) \\\n",
    "    .addCheck(\n",
    "        check.hasSize(lambda x: x >= 100000) \\\n",
    "        .hasMin(\"open\", lambda x: x < 0) \\\n",
    "        .hasMin(\"high\", lambda x: x < 0) \\\n",
    "        .hasMin(\"low\", lambda x: x < 0) \\\n",
    "        .hasMin(\"close\", lambda x: x < 0) \\\n",
    "        .hasMin(\"adj close\", lambda x: x < 0) \\\n",
    "        .hasMin(\"volume\", lambda x: x < 0)) \\\n",
    "    .run()\n",
    "\n",
    "checkResult_df2 = VerificationResult.checkResultsAsDataFrame(spark, checkResult)\n",
    "checkResult_df2.show()"
   ]
  },
  {
   "cell_type": "markdown",
   "metadata": {},
   "source": [
    "## Test 4 - Determine Maximum Values ⚠️\n",
    "\n",
    "For the fourth test, we want to find the maximum values in the dataset for the numerical fields. Extremum values can often be used to define an upper bound for the column values so we can define them as the threshold values. \n",
    "\n",
    "> ℹ️ **Instructions** ℹ️\n",
    ">\n",
    ">1. Make use of the `Column Profiler Runner` to generate summary statistics for all the available columns. \n",
    ">2. Extract the maximum values for all the numeric columns in the data.\n",
    ">\n",
    "> *You may use as many cells as necessary*"
   ]
  },
  {
   "cell_type": "code",
   "execution_count": 18,
   "metadata": {},
   "outputs": [
    {
     "name": "stdout",
     "output_type": "stream",
     "text": [
      "Test 4\n",
      "StandardProfiles for column: stock: {\n",
      "    \"completeness\": 1.0,\n",
      "    \"approximateNumDistinctValues\": 674,\n",
      "    \"dataType\": \"String\",\n",
      "    \"isDataTypeInferred\": false,\n",
      "    \"typeCounts\": {\n",
      "        \"Boolean\": 0,\n",
      "        \"Fractional\": 0,\n",
      "        \"Integral\": 0,\n",
      "        \"Unknown\": 0,\n",
      "        \"String\": 172982\n",
      "    },\n",
      "    \"histogram\": null\n",
      "}\n",
      "NumericProfiles for column: open: {\n",
      "    \"completeness\": 0.9999595333618527,\n",
      "    \"approximateNumDistinctValues\": 11783,\n",
      "    \"dataType\": \"Fractional\",\n",
      "    \"isDataTypeInferred\": false,\n",
      "    \"typeCounts\": {},\n",
      "    \"histogram\": null,\n",
      "    \"kll\": \"None\",\n",
      "    \"mean\": 105.63464648399778,\n",
      "    \"maximum\": 100000.0,\n",
      "    \"minimum\": 0.0,\n",
      "    \"sum\": 18272152.975569516,\n",
      "    \"stdDev\": 2630.228499061416,\n",
      "    \"approxPercentiles\": []\n",
      "}\n",
      "NumericProfiles for column: low: {\n",
      "    \"completeness\": 0.9999595333618527,\n",
      "    \"approximateNumDistinctValues\": 18488,\n",
      "    \"dataType\": \"Fractional\",\n",
      "    \"isDataTypeInferred\": false,\n",
      "    \"typeCounts\": {},\n",
      "    \"histogram\": null,\n",
      "    \"kll\": \"None\",\n",
      "    \"mean\": 328.1961455107131,\n",
      "    \"maximum\": 219375.0,\n",
      "    \"minimum\": 0.0032552082557231188,\n",
      "    \"sum\": 56769728.2697156,\n",
      "    \"stdDev\": 6317.401364954072,\n",
      "    \"approxPercentiles\": []\n",
      "}\n",
      "StandardProfiles for column: date: {\n",
      "    \"completeness\": 1.0,\n",
      "    \"approximateNumDistinctValues\": 275,\n",
      "    \"dataType\": \"Unknown\",\n",
      "    \"isDataTypeInferred\": false,\n",
      "    \"typeCounts\": {},\n",
      "    \"histogram\": null\n",
      "}\n",
      "NumericProfiles for column: close: {\n",
      "    \"completeness\": 0.9999595333618527,\n",
      "    \"approximateNumDistinctValues\": 18565,\n",
      "    \"dataType\": \"Fractional\",\n",
      "    \"isDataTypeInferred\": false,\n",
      "    \"typeCounts\": {},\n",
      "    \"histogram\": null,\n",
      "    \"kll\": \"None\",\n",
      "    \"mean\": 333.23157724676713,\n",
      "    \"maximum\": 221250.0,\n",
      "    \"minimum\": 0.0032552082557231188,\n",
      "    \"sum\": 57640732.07425954,\n",
      "    \"stdDev\": 6399.003563192789,\n",
      "    \"approxPercentiles\": []\n",
      "}\n",
      "NumericProfiles for column: volume: {\n",
      "    \"completeness\": 0.9999595333618527,\n",
      "    \"approximateNumDistinctValues\": 23800,\n",
      "    \"dataType\": \"Fractional\",\n",
      "    \"isDataTypeInferred\": false,\n",
      "    \"typeCounts\": {},\n",
      "    \"histogram\": null,\n",
      "    \"kll\": \"None\",\n",
      "    \"mean\": 707825.2465442984,\n",
      "    \"maximum\": 183495200.0,\n",
      "    \"minimum\": 0.0,\n",
      "    \"sum\": 122436072021.0,\n",
      "    \"stdDev\": 3221440.7520829253,\n",
      "    \"approxPercentiles\": []\n",
      "}\n",
      "NumericProfiles for column: adj_close: {\n",
      "    \"completeness\": 0.9999595333618527,\n",
      "    \"approximateNumDistinctValues\": 51586,\n",
      "    \"dataType\": \"Fractional\",\n",
      "    \"isDataTypeInferred\": false,\n",
      "    \"typeCounts\": {},\n",
      "    \"histogram\": null,\n",
      "    \"kll\": \"None\",\n",
      "    \"mean\": -2.766719470216246e+18,\n",
      "    \"maximum\": 190826.34375,\n",
      "    \"minimum\": -2.1262729515963871e+21,\n",
      "    \"sum\": -4.785733003606551e+23,\n",
      "    \"stdDev\": 7.263449623179979e+19,\n",
      "    \"approxPercentiles\": []\n",
      "}\n",
      "NumericProfiles for column: high: {\n",
      "    \"completeness\": 0.9999595333618527,\n",
      "    \"approximateNumDistinctValues\": 17314,\n",
      "    \"dataType\": \"Fractional\",\n",
      "    \"isDataTypeInferred\": false,\n",
      "    \"typeCounts\": {},\n",
      "    \"histogram\": null,\n",
      "    \"kll\": \"None\",\n",
      "    \"mean\": 337.3325489474701,\n",
      "    \"maximum\": 224062.5,\n",
      "    \"minimum\": 0.0045572915114462376,\n",
      "    \"sum\": 58350097.65418865,\n",
      "    \"stdDev\": 6461.316646535829,\n",
      "    \"approxPercentiles\": []\n",
      "}\n"
     ]
    }
   ],
   "source": [
    "#TODO: Write your code here\n",
    "print(\"Test 4\")\n",
    "results=ColumnProfilerRunner(spark).onData(df).run()\n",
    "for col, profile in results.profiles.items():\n",
    "    print(profile)"
   ]
  },
  {
   "cell_type": "markdown",
   "metadata": {},
   "source": [
    "## Test 5 - Stock Tickers 💹️\n",
    "\n",
    "For the fifth test, we want to determine if the stock tickers contained in our dataset are consistent. To do this, you will need to make use of use of the metadata file to check that the stock names used in the dataframe are valid. \n",
    "\n",
    "> ℹ️ **Instructions** ℹ️\n",
    ">\n",
    ">1. Make use of the `Verification Suite` and write code to determine if the stock tickers contained in the dataset appear in the metadata file.\n",
    ">2. Display the results of your test.\n",
    ">\n",
    "> *You may use as many cells as necessary*"
   ]
  },
  {
   "cell_type": "code",
   "execution_count": 20,
   "metadata": {},
   "outputs": [],
   "source": [
    "#TODO: Write your code here"
   ]
  },
  {
   "cell_type": "markdown",
   "metadata": {},
   "source": [
    "## Test 6 - Duplication 👥️\n",
    "Lastly, we want to determine the uniqueness of the items found in the dataframe. You need to make use of the Verification Suite to check for the validity of the stock tickers. \n",
    "\n",
    "Similar to the previous notebook - `Data_profiling_student_version.ipynb`, the first thing to check will be if the primary key values within the dataset are unique - in our case, that will be a combination of the stock name and the date. Secondly, we want to check if the entries are all unique, which is done by checking for duplicates across that whole dataset.\n",
    "\n",
    "> ℹ️ **Instructions** ℹ️\n",
    ">\n",
    ">1. Make use of the `Verification Suite` and write code to determine the uniqueness of entries contained within the dataset.\n",
    ">2. Display the results of your test.\n",
    ">\n",
    "> *You may use as many cells as necessary*\n",
    "\n"
   ]
  },
  {
   "cell_type": "code",
   "execution_count": 21,
   "metadata": {},
   "outputs": [],
   "source": [
    "#TODO: Write your code here"
   ]
  }
 ],
 "metadata": {
  "interpreter": {
   "hash": "0b41f59b882618484a4d28c089dca4efdf4ffb1e043e654ec6730d7439b802f5"
  },
  "kernelspec": {
   "display_name": "Python 3",
   "language": "python",
   "name": "python3"
  },
  "language_info": {
   "codemirror_mode": {
    "name": "ipython",
    "version": 3
   },
   "file_extension": ".py",
   "mimetype": "text/x-python",
   "name": "python",
   "nbconvert_exporter": "python",
   "pygments_lexer": "ipython3",
   "version": "3.8.8"
  }
 },
 "nbformat": 4,
 "nbformat_minor": 2
}
